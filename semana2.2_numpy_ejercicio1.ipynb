{
 "cells": [
  {
   "cell_type": "code",
   "execution_count": 1,
   "id": "93d20a02-8704-4cdf-a031-d34fe739cb9e",
   "metadata": {
    "tags": []
   },
   "outputs": [],
   "source": [
    "import numpy as np"
   ]
  },
  {
   "cell_type": "code",
   "execution_count": 2,
   "id": "50e9ec7f-279b-4b1f-936b-79a2de5c1808",
   "metadata": {
    "tags": []
   },
   "outputs": [],
   "source": [
    "#Definir dos matrices\n",
    "A=np.array([1,2])\n",
    "B=np.array([[5,6],[7,8]])"
   ]
  },
  {
   "cell_type": "code",
   "execution_count": 3,
   "id": "a8f2769e-9eac-4224-913d-0088c082d08a",
   "metadata": {
    "tags": []
   },
   "outputs": [],
   "source": [
    "#Calcular la suma de las matrices A y B \n",
    "suma_matrices = A + B\n",
    "#Calcular el producto(el producto elemento por elemento)\n",
    "producto_matrices= A * B"
   ]
  },
  {
   "cell_type": "code",
   "execution_count": 4,
   "id": "6f805cec-cb4e-460e-86cc-7f1ebe99c683",
   "metadata": {
    "tags": []
   },
   "outputs": [
    {
     "name": "stdout",
     "output_type": "stream",
     "text": [
      "matriz A: \n",
      "[1 2]\n",
      "\n",
      "matriz B: \n",
      "[[5 6]\n",
      " [7 8]]\n"
     ]
    }
   ],
   "source": [
    "#Mostrar los resultados\n",
    "print(\"matriz A: \")\n",
    "print(A)\n",
    "print(\"\\nmatriz B: \")\n",
    "print(B)\n"
   ]
  },
  {
   "cell_type": "code",
   "execution_count": 5,
   "id": "eea77843-763a-4deb-91ad-71bfc828de90",
   "metadata": {
    "tags": []
   },
   "outputs": [
    {
     "name": "stdout",
     "output_type": "stream",
     "text": [
      "Suma de las matrices A y B:\n",
      "[[ 6  8]\n",
      " [ 8 10]]\n"
     ]
    }
   ],
   "source": [
    "print(\"Suma de las matrices A y B:\")\n",
    "print(suma_matrices)"
   ]
  },
  {
   "cell_type": "code",
   "execution_count": 6,
   "id": "965d0863-5810-41e4-971b-f5b650d60768",
   "metadata": {
    "tags": []
   },
   "outputs": [
    {
     "name": "stdout",
     "output_type": "stream",
     "text": [
      "Producto de las matrices A y B:\n",
      "[[ 5 12]\n",
      " [ 7 16]]\n"
     ]
    }
   ],
   "source": [
    "print(\"Producto de las matrices A y B:\")\n",
    "print(producto_matrices)"
   ]
  }
 ],
 "metadata": {
  "kernelspec": {
   "display_name": "Python 3",
   "language": "python",
   "name": "python3"
  },
  "language_info": {
   "codemirror_mode": {
    "name": "ipython",
    "version": 3
   },
   "file_extension": ".py",
   "mimetype": "text/x-python",
   "name": "python",
   "nbconvert_exporter": "python",
   "pygments_lexer": "ipython3",
   "version": "3.12.2"
  }
 },
 "nbformat": 4,
 "nbformat_minor": 5
}
