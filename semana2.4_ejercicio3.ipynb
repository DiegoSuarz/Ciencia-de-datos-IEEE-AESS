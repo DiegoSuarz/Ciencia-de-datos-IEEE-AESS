{
 "cells": [
  {
   "cell_type": "code",
   "execution_count": 1,
   "id": "bdeda6e7-4e0b-42ae-b464-b77ac0abde40",
   "metadata": {
    "tags": []
   },
   "outputs": [],
   "source": [
    "import numpy as np"
   ]
  },
  {
   "cell_type": "code",
   "execution_count": 2,
   "id": "71531bf8-01c9-4029-925b-e52978d85bcf",
   "metadata": {
    "tags": []
   },
   "outputs": [],
   "source": [
    "# Simulación de etapas de la misión espacial"
   ]
  },
  {
   "cell_type": "code",
   "execution_count": 3,
   "id": "4337a567-08e6-4df7-8f74-73a22608636c",
   "metadata": {
    "tags": []
   },
   "outputs": [],
   "source": [
    "# Etapa 1: Despegue y ascenso (0-300 segundos)\n",
    "t_despegue = np.linspace(0, 300, num=100)  # Tiempo de despegue (segundos)\n",
    "altura_despegue = 0.5 * t_despegue**2  # Altura durante el despegue (metros)  \n",
    "#representa la altura alcanzada en función del tiempo durante el despegue.\n",
    "velocidad_despegue = t_despegue * 1.2  # Velocidad durante el despegue (m/s)\n",
    "#t_despegue por 1.2 para simular un incremento lineal de la velocidad con el tiempo durante el despegue.\n"
   ]
  },
  {
   "cell_type": "code",
   "execution_count": 4,
   "id": "e8ad59c3-a304-43df-94a3-6635c4b8ea78",
   "metadata": {
    "tags": []
   },
   "outputs": [],
   "source": [
    "# Etapa 2: Órbita terrestre baja (300-1000 segundos)\n",
    "t_orbita_terrestre = np.linspace(300, 1000, num=200)  # Tiempo en órbita terrestre (segundos)\n",
    "altura_orbita_terrestre = 1500 + 100 * np.sin(0.01 * t_orbita_terrestre)  # Altura en órbita terrestre (metros)\n",
    "#agrega una oscilación sinusoidal a la altura. \n",
    "#Esto simula las variaciones periódicas en la altura durante la órbita, \n",
    "#posiblemente debido a irregularidades gravitacionales u otros efectos.\n",
    "velocidad_orbita_terrestre = 7500 / t_orbita_terrestre  # Velocidad en órbita terrestre (m/s)\n"
   ]
  },
  {
   "cell_type": "code",
   "execution_count": 5,
   "id": "ac8eacbe-c328-479b-9a66-bc461e9f3839",
   "metadata": {
    "tags": []
   },
   "outputs": [],
   "source": [
    "# Etapa 3: Viaje a la Luna (1000-1500 segundos)\n",
    "t_viaje_luna = np.linspace(1000, 1500, num=300)  # Tiempo de viaje a la Luna (segundos)\n",
    "altura_viaje_luna = 380000 - 0.2 * (t_viaje_luna - 1000)**2  # Altura durante el viaje a la Luna (metros)\n",
    "velocidad_viaje_luna = 3000 - 0.5 * (t_viaje_luna - 1000)  # Velocidad durante el viaje a la Luna (m/s)\n"
   ]
  },
  {
   "cell_type": "code",
   "execution_count": 6,
   "id": "f0aacc97-d959-4cf4-af61-42ef86ac4b33",
   "metadata": {
    "tags": []
   },
   "outputs": [],
   "source": [
    "# Combinar los datos de todas las etapas\n",
    "tiempo_total = np.concatenate((t_despegue, t_orbita_terrestre, t_viaje_luna))\n",
    "altura_total = np.concatenate((altura_despegue, altura_orbita_terrestre, altura_viaje_luna))\n",
    "velocidad_total = np.concatenate((velocidad_despegue, velocidad_orbita_terrestre, velocidad_viaje_luna))\n"
   ]
  },
  {
   "cell_type": "code",
   "execution_count": 7,
   "id": "74ba2f75-d2fd-4e15-a7e6-41d205507f35",
   "metadata": {
    "tags": []
   },
   "outputs": [
    {
     "name": "stdout",
     "output_type": "stream",
     "text": [
      "Simulación de la trayectoria de la nave espacial:\n",
      "Tiempo total de la misión: 1500.0 segundos\n",
      "Altura máxima alcanzada: 380000.0 metros\n",
      "Velocidad máxima alcanzada: 3000.0 m/s\n"
     ]
    }
   ],
   "source": [
    "# Mostrar algunos resultados\n",
    "print(\"Simulación de la trayectoria de la nave espacial:\")\n",
    "print(\"Tiempo total de la misión:\", tiempo_total[-1], \"segundos\")\n",
    "print(\"Altura máxima alcanzada:\", np.max(altura_total), \"metros\")\n",
    "print(\"Velocidad máxima alcanzada:\", np.max(velocidad_total), \"m/s\")\n"
   ]
  }
 ],
 "metadata": {
  "kernelspec": {
   "display_name": "Python 3",
   "language": "python",
   "name": "python3"
  },
  "language_info": {
   "codemirror_mode": {
    "name": "ipython",
    "version": 3
   },
   "file_extension": ".py",
   "mimetype": "text/x-python",
   "name": "python",
   "nbconvert_exporter": "python",
   "pygments_lexer": "ipython3",
   "version": "3.12.2"
  }
 },
 "nbformat": 4,
 "nbformat_minor": 5
}
