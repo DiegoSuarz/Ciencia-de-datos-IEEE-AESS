{
 "cells": [
  {
   "cell_type": "code",
   "execution_count": 1,
   "metadata": {},
   "outputs": [
    {
     "name": "stdout",
     "output_type": "stream",
     "text": [
      "¡Hola, mundo!\n"
     ]
    }
   ],
   "source": [
    "#Este es un comentaria en python\n",
    "\n",
    "#Este es un ejemplo de una declaración simple en Python\n",
    "print(\"¡Hola, mundo!\")"
   ]
  },
  {
   "cell_type": "code",
   "execution_count": 2,
   "metadata": {},
   "outputs": [
    {
     "name": "stdout",
     "output_type": "stream",
     "text": [
      "10\n",
      "Hola\n"
     ]
    }
   ],
   "source": [
    "#Declaración de variables\n",
    "x=10\n",
    "y=\"Hola\"\n",
    "\n",
    "#impresión de variables\n",
    "print(x) \n",
    "print(y) "
   ]
  },
  {
   "cell_type": "code",
   "execution_count": 4,
   "metadata": {},
   "outputs": [
    {
     "name": "stdout",
     "output_type": "stream",
     "text": [
      "<class 'int'>\n",
      "<class 'float'>\n",
      "<class 'str'>\n",
      "<class 'list'>\n",
      "<class 'tuple'>\n",
      "<class 'dict'>\n"
     ]
    }
   ],
   "source": [
    "#Tipos de datos\n",
    "\n",
    "entero=10\n",
    "flotante=3.14\n",
    "cadena=\"hola\"\n",
    "lista=[1,2,3]\n",
    "tupla=(4,5,6)\n",
    "diccionario={\"nombre\":\"juan\",\"edad\":30}\n",
    "\n",
    "#imprimir tipos de datos\n",
    "\n",
    "print(type(entero))\n",
    "print(type(flotante))\n",
    "print(type(cadena))\n",
    "print(type(lista))\n",
    "print(type(tupla))\n",
    "print(type(diccionario))"
   ]
  },
  {
   "cell_type": "code",
   "execution_count": null,
   "metadata": {},
   "outputs": [],
   "source": [
    "#Operaciones aritmeticas\n",
    "\n",
    "a=float(input(\"Ingresar el primer número: \"))\n",
    "b=float(input(\"Ingresar el segundo número: \"))\n",
    "\n",
    "print(a+b)\n",
    "print(a-b)\n",
    "print(a*b)\n",
    "print(a/b)\n",
    "print(a//b)\n",
    "print(a%b) "
   ]
  },
  {
   "cell_type": "code",
   "execution_count": null,
   "metadata": {},
   "outputs": [],
   "source": [
    "#operadores de asignación\n",
    "x=5\n",
    "x +=2 #Equivalente a x= x+2"
   ]
  },
  {
   "cell_type": "code",
   "execution_count": null,
   "metadata": {},
   "outputs": [],
   "source": [
    "#Operaciones de Comparacion\n",
    "\n",
    "print(a==b)\n",
    "print(a!=b)\n",
    "print(a>b)\n",
    "print(a<b)\n",
    "print(a>=b)\n",
    "print(a<=b)"
   ]
  },
  {
   "cell_type": "code",
   "execution_count": null,
   "metadata": {},
   "outputs": [],
   "source": [
    "# Operadores lógicos\n",
    "p = True\n",
    "q = False\n",
    "print(p and q)  # AND lógico: Output: False\n",
    "print(p or q)   # OR lógico: Output: True\n",
    "print(not p)    # NOT lógico: Output: False"
   ]
  },
  {
   "cell_type": "code",
   "execution_count": null,
   "metadata": {},
   "outputs": [],
   "source": [
    "# Creación de una tupla vacía\n",
    "tupla_vacia = ()\n",
    "\n",
    "# Creación de una tupla con elementos\n",
    "mi_tupla = (1, 2, 3, 4, 5)\n",
    "\n",
    "# Creación de una tupla con diferentes tipos de datos\n",
    "tupla_mixta = (1, \"Hola\", 3.14, True)\n",
    "\n",
    "# También se pueden crear sin paréntesis\n",
    "tupla_sin_parentesis = 1, 2, 3"
   ]
  }
 ],
 "metadata": {
  "kernelspec": {
   "display_name": "Python 3",
   "language": "python",
   "name": "python3"
  },
  "language_info": {
   "codemirror_mode": {
    "name": "ipython",
    "version": 3
   },
   "file_extension": ".py",
   "mimetype": "text/x-python",
   "name": "python",
   "nbconvert_exporter": "python",
   "pygments_lexer": "ipython3",
   "version": "3.12.2"
  }
 },
 "nbformat": 4,
 "nbformat_minor": 2
}
