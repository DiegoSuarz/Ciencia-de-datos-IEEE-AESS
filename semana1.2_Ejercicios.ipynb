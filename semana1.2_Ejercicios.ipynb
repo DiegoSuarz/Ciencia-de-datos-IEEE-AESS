{
 "cells": [
  {
   "cell_type": "markdown",
   "metadata": {},
   "source": [
    "## Ejercicio 1"
   ]
  },
  {
   "cell_type": "code",
   "execution_count": null,
   "metadata": {},
   "outputs": [],
   "source": [
    "#Solicitar al usuario que ingrese la base del triangulo\n",
    "\n",
    "base=float(input(\"Ingrese la longitud de la base del triangulo: \"))\n",
    "\n",
    "\n",
    "#Solicitar al usuario que ingrese la altura del triangulo\n",
    "\n",
    "altura=float(input(\"Ingrese la altura del triangulo: \"))\n",
    "\n",
    "\n",
    "#Calcular el área del triangulo utilizando la formula: área = (base*altura) / 2\n",
    "\n",
    "area= (base*altura)/2\n",
    "\n",
    "#Mostramos el área calculada\n",
    "print(\"El área del triángulo con base \", base, \" y altura \", altura, \" es: \",area)"
   ]
  },
  {
   "cell_type": "markdown",
   "metadata": {},
   "source": [
    "## Ejercicio 2"
   ]
  },
  {
   "cell_type": "code",
   "execution_count": null,
   "metadata": {},
   "outputs": [],
   "source": [
    "import math\n",
    "\n",
    "#constantes\n",
    "\n",
    "G=6.67430e-11 # Constante gravitacional universal (m³/(kg·s²))\n",
    "\n",
    "M= 5.972e24 #Masa de la Tierra (kg)\n",
    "\n",
    "r=6.371e6 #Radio de la Tierra (m)\n",
    "\n",
    "\n",
    "\n",
    "#Solicitar  al usuario la altitud sobra la superficie de la Tierra\n",
    "altitud=float(input(\"Ingresar la altitud sobre la superficie de la Tierra (en metros): \"))\n",
    "\n",
    "#Calcular el radio desde el centro de la Tierra hasta la altitud dada\n",
    "\n",
    "radio_desde_centro = r + altitud\n",
    "\n",
    "#Calcular la velocidad de esape utilizando la formula\n",
    "\n",
    "velocidad_escape = math.sqrt(2*G*M/radio_desde_centro)\n",
    "\n",
    "velocidad_escape = round(velocidad_escape,2)\n",
    "\n",
    "#Mostrar la velocidad de escape necesaria\n",
    "print(\"La velocidad de escape necesaria para salir de la atmósfera terrestre desde una altitud de\", altitud, \"metros es de\", velocidad_escape, \"metros por segundo.\")"
   ]
  },
  {
   "cell_type": "markdown",
   "metadata": {},
   "source": [
    "## Ejecicio 3"
   ]
  },
  {
   "cell_type": "code",
   "execution_count": null,
   "metadata": {},
   "outputs": [],
   "source": [
    "\n",
    "# Registro de constelaciones (diccionario)\n",
    "constelaciones = {}\n",
    "\n",
    "\n",
    "# Función para agregar una nueva constelación al registro\n",
    "def agregar_constelacion(nombre, estrellas_principales, mitologia):\n",
    "    constelaciones[nombre] = {\"estrellas_principales\": estrellas_principales, \"mitologia\": mitologia}\n",
    "    \n",
    "    \n",
    "# Función para buscar información sobre una constelación específica\n",
    "def buscar_constelacion(nombre):\n",
    "    return constelaciones.get(nombre, \"Constelación no encontrada en el registro\")\n",
    "\n",
    "# Función para obtener una lista de todas las constelaciones registradas\n",
    "def obtener_constelaciones():\n",
    "    return list(constelaciones.keys())\n",
    "\n",
    "\n",
    "# Agregar algunas constelaciones al registro\n",
    "agregar_constelacion(\"Orion\", [\"Betelgeuse\", \"Rigel\", \"Alnilam\"], \"En la mitología griega, representa al cazador Orión.\")\n",
    "agregar_constelacion(\"Leo\", [\"Regulus\", \"Denebola\"], \"Representa al león, una de las constelaciones zodiacales.\")\n",
    "agregar_constelacion(\"Ursa Major\", [\"Dubhe\", \"Merak\", \"Alkaid\"], \"También conocida como la Osa Mayor.\")\n",
    "\n",
    "# Buscar información sobre la constelación \"Orion\"\n",
    "info_orion = buscar_constelacion(\"Orion\")\n",
    "print(\"Información sobre la constelación Orion:\")\n",
    "print(\"Estrellas principales:\", info_orion[\"estrellas_principales\"])\n",
    "print(\"Mitología:\", info_orion[\"mitologia\"])\n",
    "\n",
    "# Obtener una lista de todas las constelaciones registradas\n",
    "todas_constelaciones = obtener_constelaciones()\n",
    "print(\"Todas las constelaciones registradas:\", todas_constelaciones)"
   ]
  },
  {
   "cell_type": "markdown",
   "metadata": {},
   "source": [
    "## Ejercicio 4"
   ]
  },
  {
   "cell_type": "code",
   "execution_count": null,
   "metadata": {},
   "outputs": [],
   "source": [
    "# Registro de constelaciones (diccionario)\n",
    "constelaciones = {}\n",
    "\n",
    "\n",
    "# Función para agregar una nueva constelación al registro\n",
    "def agregar_constelacion(nombre, estrellas_principales, mitologia):\n",
    "    constelaciones[nombre] = {\"estrellas_principales\": estrellas_principales, \"mitologia\": mitologia}\n",
    "    \n",
    "    \n",
    "# Función para buscar información sobre una constelación específica\n",
    "def buscar_constelacion(nombre):\n",
    "    return constelaciones.get(nombre, \"Constelación no encontrada en el registro\")\n",
    "\n",
    "# Función para obtener una lista de todas las constelaciones registradas\n",
    "def obtener_constelaciones():\n",
    "    return list(constelaciones.keys())\n",
    "\n",
    "\n",
    "# Agregar algunas constelaciones al registro\n",
    "agregar_constelacion(\"Orion\", [\"Betelgeuse\", \"Rigel\", \"Alnilam\"], \"En la mitología griega, representa al cazador Orión.\")\n",
    "agregar_constelacion(\"Leo\", [\"Regulus\", \"Denebola\"], \"Representa al león, una de las constelaciones zodiacales.\")\n",
    "agregar_constelacion(\"Ursa Major\", [\"Dubhe\", \"Merak\", \"Alkaid\"], \"También conocida como la Osa Mayor.\")\n",
    "\n",
    "# Buscar información sobre la constelación \"Orion\"\n",
    "info_orion = buscar_constelacion(\"Orion\")\n",
    "print(\"Información sobre la constelación Orion:\")\n",
    "print(\"Estrellas principales:\", info_orion[\"estrellas_principales\"])\n",
    "print(\"Mitología:\", info_orion[\"mitologia\"])\n",
    "\n",
    "# Obtener una lista de todas las constelaciones registradas\n",
    "todas_constelaciones = obtener_constelaciones()\n",
    "print(\"Todas las constelaciones registradas:\", todas_constelaciones)\n"
   ]
  }
 ],
 "metadata": {
  "kernelspec": {
   "display_name": "Python 3",
   "language": "python",
   "name": "python3"
  },
  "language_info": {
   "name": "python",
   "version": "3.12.2"
  }
 },
 "nbformat": 4,
 "nbformat_minor": 2
}
