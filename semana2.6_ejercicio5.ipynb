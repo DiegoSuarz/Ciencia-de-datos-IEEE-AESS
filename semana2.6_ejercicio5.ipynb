{
 "cells": [
  {
   "cell_type": "code",
   "execution_count": 1,
   "id": "689b2a3e-e01b-4122-b306-418f214b9006",
   "metadata": {
    "tags": []
   },
   "outputs": [],
   "source": [
    "import pandas as pd"
   ]
  },
  {
   "cell_type": "code",
   "execution_count": 7,
   "id": "cb4a99c1-f3ff-4f74-b3ae-756fe86c7ff6",
   "metadata": {
    "tags": []
   },
   "outputs": [],
   "source": [
    "# Crear un DataFrame manualmente\n",
    "data = {\n",
    "    'Misión': ['Apollo 11', 'Voyager 1', 'Hubble Space Telescope', 'Mars Curiosity'],\n",
    "    'Año de Lanzamiento': [1969, 1977, 1990, 2011],\n",
    "    'Destino': ['Luna', 'Espacio interestelar', 'Órbita terrestre baja', 'Marte'],\n",
    "    'Duración (años)': [3, 44, 32, 10]\n",
    "}\n"
   ]
  },
  {
   "cell_type": "code",
   "execution_count": 8,
   "id": "6b9e2a4f-6515-4593-a30b-a8ef862d29c6",
   "metadata": {
    "tags": []
   },
   "outputs": [
    {
     "name": "stdout",
     "output_type": "stream",
     "text": [
      "Primeras filas del DataFrame:\n",
      "                   Misión  Año de Lanzamiento                Destino  \\\n",
      "0               Apollo 11                1969                   Luna   \n",
      "1               Voyager 1                1977   Espacio interestelar   \n",
      "2  Hubble Space Telescope                1990  Órbita terrestre baja   \n",
      "3          Mars Curiosity                2011                  Marte   \n",
      "\n",
      "   Duración (años)  \n",
      "0                3  \n",
      "1               44  \n",
      "2               32  \n",
      "3               10  \n",
      "\n"
     ]
    }
   ],
   "source": [
    "misiones_df = pd.DataFrame(data)\n",
    "\n",
    "# Mostrar las primeras filas del DataFrame\n",
    "print(\"Primeras filas del DataFrame:\")\n",
    "print(misiones_df.head())\n",
    "print()\n"
   ]
  },
  {
   "cell_type": "code",
   "execution_count": 4,
   "id": "ca3c8f91-e139-4da9-a2ce-32244fe1400b",
   "metadata": {
    "tags": []
   },
   "outputs": [
    {
     "name": "stdout",
     "output_type": "stream",
     "text": [
      "Descripción estadística de las columnas numéricas:\n",
      "       Año de Lanzamiento  Duración (años)\n",
      "count            4.000000         4.000000\n",
      "mean          1986.750000        22.250000\n",
      "std             18.337121        19.050372\n",
      "min           1969.000000         3.000000\n",
      "25%           1975.000000         8.250000\n",
      "50%           1983.500000        21.000000\n",
      "75%           1995.250000        35.000000\n",
      "max           2011.000000        44.000000\n",
      "\n"
     ]
    }
   ],
   "source": [
    "# Descripción estadística de las columnas numéricas\n",
    "print(\"Descripción estadística de las columnas numéricas:\")\n",
    "print(misiones_df.describe())\n",
    "print()\n"
   ]
  },
  {
   "cell_type": "code",
   "execution_count": 9,
   "id": "962e1eb9-2132-448b-a918-2494a4ace550",
   "metadata": {
    "tags": []
   },
   "outputs": [
    {
     "name": "stdout",
     "output_type": "stream",
     "text": [
      "Misiones con duración superior a 20 años:\n",
      "                   Misión  Año de Lanzamiento                Destino  \\\n",
      "1               Voyager 1                1977   Espacio interestelar   \n",
      "2  Hubble Space Telescope                1990  Órbita terrestre baja   \n",
      "\n",
      "   Duración (años)  \n",
      "1               44  \n",
      "2               32  \n"
     ]
    }
   ],
   "source": [
    "# Seleccionar misiones con una duración superior a 20 años\n",
    "misiones_largas = misiones_df[misiones_df['Duración (años)'] > 20]\n",
    "\n",
    "# Mostrar las misiones con duración superior a 20 años\n",
    "print(\"Misiones con duración superior a 20 años:\")\n",
    "print(misiones_largas)\n"
   ]
  }
 ],
 "metadata": {
  "kernelspec": {
   "display_name": "Python 3",
   "language": "python",
   "name": "python3"
  },
  "language_info": {
   "codemirror_mode": {
    "name": "ipython",
    "version": 3
   },
   "file_extension": ".py",
   "mimetype": "text/x-python",
   "name": "python",
   "nbconvert_exporter": "python",
   "pygments_lexer": "ipython3",
   "version": "3.12.2"
  }
 },
 "nbformat": 4,
 "nbformat_minor": 5
}
