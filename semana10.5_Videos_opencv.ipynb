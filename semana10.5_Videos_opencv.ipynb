{
 "cells": [
  {
   "cell_type": "markdown",
   "id": "fc5a55c7",
   "metadata": {},
   "source": []
  },
  {
   "cell_type": "code",
   "execution_count": 2,
   "id": "def3f3e3-b97b-49ae-a170-e4e9c9ebbb91",
   "metadata": {},
   "outputs": [],
   "source": [
    "import matplotlib.pyplot as plt\n",
    "import cv2\n",
    "import numpy as np"
   ]
  },
  {
   "cell_type": "code",
   "execution_count": 3,
   "id": "c0897eda-47a1-469d-8e1d-bf59a27c76ef",
   "metadata": {},
   "outputs": [],
   "source": [
    "captura = cv2.VideoCapture(0)\n",
    "\n",
    "ancho =int(captura.get(cv2.CAP_PROP_FRAME_WIDTH)) \n",
    "alto= int(captura.get(cv2.CAP_PROP_FRAME_HEIGHT))\n",
    "\n",
    "#Codigo MAC\n",
    "#codigo= cv2.VideoWriter_fourcc(*'MJPG')\n",
    "#grabador =cv2.VideoWriter('video.avi', codigo, 20, (ancho, alto))\n",
    "\n",
    "#Codigo WINDOWS \n",
    "codigo= cv2.VideoWriter_fourcc(*'DIVX')\n",
    "grabador= cv2.VideoWriter('archivos/video.mp4', codigo, 20, (ancho, alto))\n",
    "\n",
    "while True:\n",
    "    resultado, video = captura.read()\n",
    "    #Grabar\n",
    "    grabador.write(video)\n",
    "    \n",
    "    cv2.imshow('Video', video)\n",
    "    if cv2.waitKey(1) & 0xFF == ord('q'):\n",
    "        break\n",
    "captura.release()\n",
    "grabador.release()\n",
    "cv2.destroyAllWindows()"
   ]
  },
  {
   "cell_type": "markdown",
   "id": "a603411e",
   "metadata": {},
   "source": [
    "# Leer un archivo de vídeo"
   ]
  },
  {
   "cell_type": "code",
   "execution_count": 4,
   "id": "19e72164-38af-486a-aca8-110cad23a862",
   "metadata": {},
   "outputs": [],
   "source": [
    "captura = cv2.VideoCapture('archivos/video.mp4')\n",
    "\n",
    "if captura.isOpened() == False: \n",
    "    print('Error al abrir el fichero de video')\n",
    "    \n",
    "while captura.isOpened():\n",
    "    resultado, video = captura.read()\n",
    "    if resultado == True:\n",
    "        cv2.imshow('Mi video', video)\n",
    "        if cv2.waitKey(1) & 0xFF == ord('q'):\n",
    "            break\n",
    "    else:\n",
    "        break\n",
    "        \n",
    "captura.release()\n",
    "cv2.destroyAllWindows()"
   ]
  },
  {
   "cell_type": "markdown",
   "id": "b344fd15",
   "metadata": {},
   "source": [
    "# Dibujando en un vídeo"
   ]
  },
  {
   "cell_type": "code",
   "execution_count": 6,
   "id": "80b12ba2-5338-4cb9-9217-18bc02ec9c5c",
   "metadata": {},
   "outputs": [],
   "source": [
    "captura = cv2.VideoCapture(0)\n",
    "\n",
    "ancho = int(captura.get(cv2.CAP_PROP_FRAME_WIDTH))\n",
    "alto= int(captura.get(cv2.CAP_PROP_FRAME_HEIGHT))\n",
    "\n",
    "# esquina izquierda\n",
    "y = 200\n",
    "x = 313\n",
    "\n",
    "# dimensiones del rectangulo\n",
    "w = ancho // 4\n",
    "h = alto //4\n",
    "while True:\n",
    "    resultado, video= captura.read()\n",
    "    # dibujamos el rectangulo\n",
    "    cv2.rectangle (video, (x,y), (x+w,y+h), color=(255,0,0), thickness=4)\n",
    "    cv2.imshow('video con rectangulo', video)\n",
    "    if cv2.waitKey(1) & 0xFF == ord('q'):\n",
    "        break\n",
    "captura.release()\n",
    "cv2.destroyAllWindows()"
   ]
  }
 ],
 "metadata": {
  "kernelspec": {
   "display_name": "Python 3",
   "language": "python",
   "name": "python3"
  },
  "language_info": {
   "codemirror_mode": {
    "name": "ipython",
    "version": 3
   },
   "file_extension": ".py",
   "mimetype": "text/x-python",
   "name": "python",
   "nbconvert_exporter": "python",
   "pygments_lexer": "ipython3",
   "version": "3.12.2"
  }
 },
 "nbformat": 4,
 "nbformat_minor": 5
}
