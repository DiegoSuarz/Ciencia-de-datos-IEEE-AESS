{
 "cells": [
  {
   "cell_type": "code",
   "execution_count": 1,
   "id": "7697a536-f67a-44bb-b2b6-899e5b3b82d6",
   "metadata": {
    "tags": []
   },
   "outputs": [],
   "source": [
    "import pandas as pd"
   ]
  },
  {
   "cell_type": "code",
   "execution_count": 2,
   "id": "40535999-5279-4681-be20-224e388f9726",
   "metadata": {
    "tags": []
   },
   "outputs": [],
   "source": [
    "# Crear una Serie de datos de misiones espaciales\n",
    "misiones_data = {\n",
    "    'Misión': ['Apollo 11', 'Voyager 1', 'Hubble Space Telescope', 'Mars Curiosity'],\n",
    "    'Año de Lanzamiento': [1969, 1977, 1990, 2011],\n",
    "    'Destino': ['Luna', 'Espacio interestelar', 'Órbita terrestre baja', 'Marte']\n",
    "}\n",
    "\n",
    "misiones_serie = pd.DataFrame(misiones_data)\n"
   ]
  },
  {
   "cell_type": "code",
   "execution_count": 3,
   "id": "bca9e9f7-00ed-4366-aae3-26e171441a49",
   "metadata": {
    "tags": []
   },
   "outputs": [
    {
     "name": "stdout",
     "output_type": "stream",
     "text": [
      "Serie de datos de misiones espaciales:\n",
      "                   Misión  Año de Lanzamiento                Destino  \\\n",
      "0               Apollo 11                1969                   Luna   \n",
      "1               Voyager 1                1977   Espacio interestelar   \n",
      "2  Hubble Space Telescope                1990  Órbita terrestre baja   \n",
      "3          Mars Curiosity                2011                  Marte   \n",
      "\n",
      "   Duración (años)  \n",
      "0                3  \n",
      "1               44  \n",
      "2               32  \n",
      "3               10  \n",
      "\n"
     ]
    }
   ],
   "source": [
    "# Agregar información sobre la duración estimada de cada misión en años\n",
    "misiones_serie['Duración (años)'] = [3, 44, 32, 10]\n",
    "\n",
    "# Mostrar la Serie de datos de misiones espaciales\n",
    "print(\"Serie de datos de misiones espaciales:\")\n",
    "print(misiones_serie)\n",
    "print()\n"
   ]
  }
 ],
 "metadata": {
  "kernelspec": {
   "display_name": "Python 3",
   "language": "python",
   "name": "python3"
  },
  "language_info": {
   "codemirror_mode": {
    "name": "ipython",
    "version": 3
   },
   "file_extension": ".py",
   "mimetype": "text/x-python",
   "name": "python",
   "nbconvert_exporter": "python",
   "pygments_lexer": "ipython3",
   "version": "3.12.2"
  }
 },
 "nbformat": 4,
 "nbformat_minor": 5
}
