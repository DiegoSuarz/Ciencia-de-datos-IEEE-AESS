{
 "cells": [
  {
   "cell_type": "code",
   "execution_count": 1,
   "id": "5a519d8d-06c4-441e-811e-26f020ed071b",
   "metadata": {
    "tags": []
   },
   "outputs": [
    {
     "name": "stdout",
     "output_type": "stream",
     "text": [
      "The model performance for test set\n",
      "-------------------------------\n",
      "R^2 score is -25.00\n",
      "     Real  Predicción\n",
      "0  399900    539900.0\n",
      "1  329900    539900.0\n",
      "\n",
      "Linear Regression model performance for test set\n",
      "-----------------------------------------------\n",
      "R^2 score is -4.15\n",
      "     Real     Predicción\n",
      "0  399900  339128.661900\n",
      "1  329900  235398.805971\n",
      "\n",
      "Random Forest Regressor model performance for test set\n",
      "-----------------------------------------------\n",
      "R^2 score is 0.19\n",
      "     Real  Predicción\n",
      "0  399900    379952.0\n",
      "1  329900    369872.0\n"
     ]
    }
   ],
   "source": [
    "import pandas as pd\n",
    "from sklearn.model_selection import train_test_split\n",
    "from sklearn.tree import DecisionTreeRegressor\n",
    "from sklearn.linear_model import LinearRegression\n",
    "from sklearn.ensemble import RandomForestRegressor\n",
    "from sklearn.metrics import r2_score, mean_squared_error\n",
    "from sklearn.preprocessing import StandardScaler\n",
    "\n",
    "# Crear un diccionario con los datos\n",
    "data = {\n",
    "    'sqft': [2104, 1600, 2400, 1416, 3000, 1985, 1534],\n",
    "    'habitaciones': [3, 3, 3, 2, 4, 4, 3],\n",
    "    'edad': [10, 5, 20, 15, 8, 12, 30],\n",
    "    'precio': [399900, 329900, 369000, 232000, 539900, 299900, 314900]\n",
    "}\n",
    "\n",
    "# Crear un DataFrame a partir del diccionario\n",
    "df = pd.DataFrame(data)\n",
    "\n",
    "# Seleccionar las características (X) y la variable objetivo (y)\n",
    "X = df[['sqft', 'habitaciones', 'edad']]\n",
    "y = df['precio']\n",
    "\n",
    "# Normalizar las características\n",
    "scaler = StandardScaler()\n",
    "X_scaled = scaler.fit_transform(X)\n",
    "\n",
    "# Dividir los datos en conjuntos de entrenamiento y prueba\n",
    "X_train, X_test, y_train, y_test = train_test_split(X_scaled, y, test_size=0.2, random_state=42)\n",
    "\n",
    "# Crear y entrenar el modelo de regresión de árbol de decisión con hiperparámetros ajustados\n",
    "regressor = DecisionTreeRegressor(max_depth=3, min_samples_split=2, random_state=42)\n",
    "regressor.fit(X_train, y_train)\n",
    "y_pred = regressor.predict(X_test)\n",
    "r2 = r2_score(y_test, y_pred)\n",
    "results = pd.DataFrame({'Real': y_test, 'Predicción': y_pred})\n",
    "print(\"The model performance for test set\")\n",
    "print(\"-------------------------------\")\n",
    "print(f'R^2 score is {r2:.2f}')\n",
    "print(results)\n",
    "\n",
    "# Probar con un modelo de regresión lineal para comparar\n",
    "linear_regressor = LinearRegression()\n",
    "linear_regressor.fit(X_train, y_train)\n",
    "linear_y_pred = linear_regressor.predict(X_test)\n",
    "linear_r2 = r2_score(y_test, linear_y_pred)\n",
    "linear_results = pd.DataFrame({'Real': y_test, 'Predicción': linear_y_pred})\n",
    "print(\"\\nLinear Regression model performance for test set\")\n",
    "print(\"-----------------------------------------------\")\n",
    "print(f'R^2 score is {linear_r2:.2f}')\n",
    "print(linear_results)\n",
    "\n",
    "# Probar con un modelo de RandomForestRegressor para comparar\n",
    "forest_regressor = RandomForestRegressor(n_estimators=100, random_state=42)\n",
    "forest_regressor.fit(X_train, y_train)\n",
    "forest_y_pred = forest_regressor.predict(X_test)\n",
    "forest_r2 = r2_score(y_test, forest_y_pred)\n",
    "forest_results = pd.DataFrame({'Real': y_test, 'Predicción': forest_y_pred})\n",
    "print(\"\\nRandom Forest Regressor model performance for test set\")\n",
    "print(\"-----------------------------------------------\")\n",
    "print(f'R^2 score is {forest_r2:.2f}')\n",
    "print(forest_results)\n",
    "\n"
   ]
  },
  {
   "cell_type": "code",
   "execution_count": null,
   "id": "f36f35a3-5dc9-4682-b1b2-40a9a21b8911",
   "metadata": {},
   "outputs": [],
   "source": []
  }
 ],
 "metadata": {
  "kernelspec": {
   "display_name": "Python 3 (ipykernel)",
   "language": "python",
   "name": "python3"
  },
  "language_info": {
   "codemirror_mode": {
    "name": "ipython",
    "version": 3
   },
   "file_extension": ".py",
   "mimetype": "text/x-python",
   "name": "python",
   "nbconvert_exporter": "python",
   "pygments_lexer": "ipython3",
   "version": "3.12.2"
  }
 },
 "nbformat": 4,
 "nbformat_minor": 5
}
