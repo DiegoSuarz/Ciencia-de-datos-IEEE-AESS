{
 "cells": [
  {
   "cell_type": "code",
   "execution_count": 3,
   "id": "168a8290-ec52-4d30-8dee-aa4ccc6df4ab",
   "metadata": {},
   "outputs": [],
   "source": [
    "#pip install PyAudio"
   ]
  },
  {
   "cell_type": "code",
   "execution_count": 4,
   "id": "3bc673de",
   "metadata": {},
   "outputs": [],
   "source": [
    "#pip install SpeechRecognition"
   ]
  },
  {
   "cell_type": "code",
   "execution_count": 6,
   "id": "e5967d8b-696d-4b02-87a6-dbdf6e6a8127",
   "metadata": {},
   "outputs": [
    {
     "name": "stdout",
     "output_type": "stream",
     "text": [
      "Por favor, hable ahora...\n",
      "Lo siento, no pude entender el audio.\n"
     ]
    }
   ],
   "source": [
    "import speech_recognition as sr\n",
    "\n",
    "# Inicializar el recognizer\n",
    "r = sr.Recognizer()\n",
    "\n",
    "# Utilizar el micrófono como fuente de audio\n",
    "with sr.Microphone() as source:\n",
    "    print(\"Por favor, hable ahora...\")\n",
    "    # Ajustar la energía del recognizer al nivel de ruido ambiente\n",
    "    r.adjust_for_ambient_noise(source)\n",
    "    # Escuchar el audio\n",
    "    audio = r.listen(source)\n",
    "    \n",
    "    try:\n",
    "        # Usar Google Web Speech API para reconocer el audio\n",
    "        text = r.recognize_google(audio, language='es-ES')\n",
    "        print(\"Usted dijo: \" + text)\n",
    "    except sr.UnknownValueError:\n",
    "        print(\"Lo siento, no pude entender el audio.\")\n",
    "    except sr.RequestError as e:\n",
    "        print(\"Error con el servicio de reconocimiento de voz; {0}\".format(e))\n"
   ]
  },
  {
   "cell_type": "code",
   "execution_count": 8,
   "id": "c544daa2-f004-41d4-a0cb-5d669a19e6cd",
   "metadata": {},
   "outputs": [],
   "source": [
    "#pip install pyttsx3"
   ]
  },
  {
   "cell_type": "code",
   "execution_count": 10,
   "id": "2167edaa-764b-496a-bc4b-831bf75a08f2",
   "metadata": {},
   "outputs": [],
   "source": [
    "import pyttsx3\n",
    "\n",
    "# Inicializar el motor de síntesis de voz\n",
    "engine = pyttsx3.init()\n",
    "\n",
    "# Configurar propiedades de la voz\n",
    "engine.setProperty('rate', 150)  # Velocidad de habla\n",
    "engine.setProperty('volume', 1)  # Volumen (0.0 a 1.0)\n",
    "\n",
    "# Configurar el texto a ser leído\n",
    "text = \"Hola, este es un ejemplo de síntesis de voz con Python.\"\n",
    "\n",
    "# Pasar el texto al motor y reproducirlo\n",
    "engine.say(text)\n",
    "engine.runAndWait()\n"
   ]
  },
  {
   "cell_type": "markdown",
   "id": "cd257553",
   "metadata": {},
   "source": [
    "# Combinación de funcionalidades NLP"
   ]
  },
  {
   "cell_type": "code",
   "execution_count": 11,
   "id": "2a8cd4e0-1679-45e8-bb99-4009fca7aaec",
   "metadata": {},
   "outputs": [
    {
     "name": "stdout",
     "output_type": "stream",
     "text": [
      "Por favor, hable ahora...\n",
      "Usted dijo: Hola\n",
      "Chatbot: Hola, ¿Cómo te puedo ayudar?\n",
      "Por favor, hable ahora...\n",
      "Usted dijo: Qué servicios tiene\n",
      "Chatbot: Ofrecemos servicios de desarrollo web, branding y marketing digital.\n",
      "Por favor, hable ahora...\n",
      "Usted dijo: en un soporte\n",
      "Chatbot: Sí, ofrecemos soporte 24/7.\n",
      "Por favor, hable ahora...\n",
      "Usted dijo: qué procesos tienen\n",
      "Chatbot: Hola, ¿Cómo te puedo ayudar?\n",
      "Por favor, hable ahora...\n",
      "Usted dijo: adiós\n"
     ]
    }
   ],
   "source": [
    "import speech_recognition as sr\n",
    "import pyttsx3\n",
    "import nltk\n",
    "from nltk.corpus import stopwords\n",
    "from sklearn.feature_extraction.text import TfidfVectorizer\n",
    "from sklearn.metrics.pairwise import cosine_similarity\n",
    "\n",
    "# Inicializar reconocimiento de voz y síntesis de voz\n",
    "recognizer = sr.Recognizer()\n",
    "engine = pyttsx3.init()\n",
    "\n",
    "# Función para escuchar y reconocer voz\n",
    "def escuchar():\n",
    "    with sr.Microphone() as source:\n",
    "        print(\"Por favor, hable ahora...\")\n",
    "        recognizer.adjust_for_ambient_noise(source)\n",
    "        audio = recognizer.listen(source)\n",
    "        try:\n",
    "            texto = recognizer.recognize_google(audio, language='es-ES')\n",
    "            print(\"Usted dijo: \" + texto)\n",
    "            return texto\n",
    "        except sr.UnknownValueError:\n",
    "            print(\"Lo siento, no pude entender el audio.\")\n",
    "            return \"\"\n",
    "        except sr.RequestError as e:\n",
    "            print(\"Error con el servicio de reconocimiento de voz; {0}\".format(e))\n",
    "            return \"\"\n",
    "\n",
    "# Función para sintetizar voz\n",
    "def hablar(texto):\n",
    "    engine.say(texto)\n",
    "    engine.runAndWait()\n",
    "\n",
    "# Corpus de ejemplo\n",
    "corpus = [\n",
    "    \"Hola, ¿Cómo te puedo ayudar?\",\n",
    "    \"Ofrecemos servicios de desarrollo web, branding y marketing digital.\",\n",
    "    \"El costo de una página web depende de la complejidad del proyecto.\",\n",
    "    \"Nuestro proceso incluye diseño, desarrollo y pruebas.\",\n",
    "    \"Sí, ofrecemos soporte 24/7.\",\n",
    "]\n",
    "\n",
    "# Función para preprocesar el texto\n",
    "def preprocesar(texto):\n",
    "    stop_words = set(stopwords.words('spanish'))\n",
    "    tokens = nltk.word_tokenize(texto.lower())\n",
    "    tokens = [word for word in tokens if word.isalpha() and word not in stop_words]\n",
    "    return ' '.join(tokens)\n",
    "\n",
    "# Procesar el corpus\n",
    "corpus_preprocesado = [preprocesar(sent) for sent in corpus]\n",
    "\n",
    "# Vectorizador TF-IDF\n",
    "vectorizer = TfidfVectorizer()\n",
    "X = vectorizer.fit_transform(corpus_preprocesado)\n",
    "\n",
    "# Función para encontrar la mejor respuesta\n",
    "def obtener_respuesta(texto_usuario):\n",
    "    texto_usuario_preprocesado = preprocesar(texto_usuario)\n",
    "    Y = vectorizer.transform([texto_usuario_preprocesado])\n",
    "    similitudes = cosine_similarity(Y, X)\n",
    "    idx_respuesta = similitudes.argmax()\n",
    "    return corpus[idx_respuesta]\n",
    "\n",
    "# Main loop\n",
    "while True:\n",
    "    texto_usuario = escuchar()\n",
    "    if texto_usuario.lower() == 'adiós':\n",
    "        hablar(\"Adiós, que tengas un buen día.\")\n",
    "        break\n",
    "    elif texto_usuario:\n",
    "        respuesta = obtener_respuesta(texto_usuario)\n",
    "        print(\"Chatbot: \" + respuesta)\n",
    "        hablar(respuesta)\n"
   ]
  }
 ],
 "metadata": {
  "kernelspec": {
   "display_name": "Python 3",
   "language": "python",
   "name": "python3"
  },
  "language_info": {
   "codemirror_mode": {
    "name": "ipython",
    "version": 3
   },
   "file_extension": ".py",
   "mimetype": "text/x-python",
   "name": "python",
   "nbconvert_exporter": "python",
   "pygments_lexer": "ipython3",
   "version": "3.12.2"
  }
 },
 "nbformat": 4,
 "nbformat_minor": 5
}
