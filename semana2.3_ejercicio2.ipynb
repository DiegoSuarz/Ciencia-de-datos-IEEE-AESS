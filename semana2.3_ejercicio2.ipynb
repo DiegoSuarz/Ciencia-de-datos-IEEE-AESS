{
 "cells": [
  {
   "cell_type": "code",
   "execution_count": 1,
   "id": "21da9af8-baa9-4194-8fe8-00e334e90b13",
   "metadata": {
    "tags": []
   },
   "outputs": [],
   "source": [
    "import numpy as np"
   ]
  },
  {
   "cell_type": "code",
   "execution_count": 2,
   "id": "eccdd9fc-8757-4194-bd52-3afe499977b6",
   "metadata": {
    "tags": []
   },
   "outputs": [],
   "source": [
    "# Datos del cuerpo celeste (por ejemplo, la Tierra)\n",
    "G = 6.67430e-11  # Constante de gravitación universal en m^3 kg^-1 s^-2\n",
    "M = 5.972e24  # Masa de la Tierra en kg\n",
    "r = 6371e3  # Radio de la Tierra en metros (6371 km convertido a metros)\n"
   ]
  },
  {
   "cell_type": "code",
   "execution_count": 3,
   "id": "4f1eb760-1430-45f6-845d-26cbe60c67c2",
   "metadata": {
    "tags": []
   },
   "outputs": [],
   "source": [
    "# Calcular la velocidad de escape utilizando NumPy\n",
    "v_escape = np.sqrt(2 * G * M / r)\n"
   ]
  },
  {
   "cell_type": "code",
   "execution_count": 4,
   "id": "83f5bab7-60ab-4b14-9f7c-128785b267e6",
   "metadata": {
    "tags": []
   },
   "outputs": [
    {
     "name": "stdout",
     "output_type": "stream",
     "text": [
      "La velocidad de escape necesaria para salir de la gravedad de la Tierra es: 11185.98 m/s\n"
     ]
    }
   ],
   "source": [
    "# Mostrar el resultado\n",
    "print(f\"La velocidad de escape necesaria para salir de la gravedad de la Tierra es: {v_escape:.2f} m/s\")\n"
   ]
  }
 ],
 "metadata": {
  "kernelspec": {
   "display_name": "Python 3",
   "language": "python",
   "name": "python3"
  },
  "language_info": {
   "codemirror_mode": {
    "name": "ipython",
    "version": 3
   },
   "file_extension": ".py",
   "mimetype": "text/x-python",
   "name": "python",
   "nbconvert_exporter": "python",
   "pygments_lexer": "ipython3",
   "version": "3.12.2"
  }
 },
 "nbformat": 4,
 "nbformat_minor": 5
}
