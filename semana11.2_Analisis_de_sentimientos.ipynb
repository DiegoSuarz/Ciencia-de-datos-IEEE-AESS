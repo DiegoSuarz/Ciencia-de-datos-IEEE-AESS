{
 "cells": [
  {
   "cell_type": "markdown",
   "id": "8bca42da-b1c5-4397-ae5b-ac533eddddfc",
   "metadata": {},
   "source": [
    "Análisis de sentimientos Caso Práctico Twitter"
   ]
  },
  {
   "cell_type": "code",
   "execution_count": 39,
   "id": "46bd2c49",
   "metadata": {},
   "outputs": [],
   "source": [
    "#pip install textblob"
   ]
  },
  {
   "cell_type": "code",
   "execution_count": 40,
   "id": "36995f16-ca53-4224-88ea-ff60586ce548",
   "metadata": {},
   "outputs": [],
   "source": [
    "import numpy as np\n",
    "import pandas as pd\n",
    "from textblob import TextBlob\n",
    "import matplotlib.pyplot as plt\n",
    "import re"
   ]
  },
  {
   "cell_type": "code",
   "execution_count": 41,
   "id": "e4063a00-2530-4ec5-a9db-18def488c708",
   "metadata": {},
   "outputs": [],
   "source": [
    "# Leer el archivo CSV\n",
    "data = pd.read_csv(r'C:\\Users\\dg_su\\OneDrive - Universidad Tecnologica del Peru\\Estudios\\Cursos\\Analisis de Datos\\Ciencia de Datos con Python IEEE AESS\\codigo\\archivos\\archivos NLP\\comentarios.csv')"
   ]
  },
  {
   "cell_type": "code",
   "execution_count": 42,
   "id": "3c4a51dd-bbdd-460f-8491-56846bf1eaf7",
   "metadata": {},
   "outputs": [],
   "source": [
    "# Función para limpiar el texto\n",
    "def limpiar_texto(texto):\n",
    "    texto = texto.lower()  # Convertir a minúsculas\n",
    "    texto = re.sub(r'\\[.*?\\]', '', texto)  # Eliminar texto entre corchetes\n",
    "    texto = re.sub(r'https?://\\S+|www\\.\\S+', '', texto)  # Eliminar URLs\n",
    "    texto = re.sub(r'<.*?>+', '', texto)  # Eliminar etiquetas HTML\n",
    "    texto = re.sub(r'[!\"#$%&\\'()*+,-./:;<=>?@[\\\\]^_`{|}~]', '', texto)  # Eliminar puntuación\n",
    "    texto = re.sub(r'\\w*\\d\\w*', '', texto)  # Eliminar palabras con números\n",
    "    texto = re.sub(r'\\s+', ' ', texto).strip()  # Eliminar espacios extra\n",
    "    \n",
    "    return texto"
   ]
  },
  {
   "cell_type": "code",
   "execution_count": 43,
   "id": "db504da5-b9de-490a-a472-d660da1be8af",
   "metadata": {},
   "outputs": [],
   "source": [
    "# Limpiar los comentarios\n",
    "data['comentario'] = data['comentario'].fillna('').apply(limpiar_texto)"
   ]
  },
  {
   "cell_type": "code",
   "execution_count": 44,
   "id": "5899c300-7397-4545-a43a-4412c89dad39",
   "metadata": {},
   "outputs": [
    {
     "name": "stdout",
     "output_type": "stream",
     "text": [
      "Comentarios limpios:\n",
      "Este producto es excelente                                               muy contento con la compra.\n",
      "El producto es de mala calidad                                                     no lo recomiendo.\n",
      "El servicio al cliente fue muy amable y resolvió todas mis dudas.                                   \n",
      "El envío fue muy rápido                                              estoy satisfecho con la compra.\n",
      "No estoy contento con el producto                                                      llegó dañado.\n",
      "Name: comentario, dtype: object\n"
     ]
    }
   ],
   "source": [
    "# Imprimir comentarios limpios para verificación\n",
    "print(\"Comentarios limpios:\")\n",
    "print(data['comentario'])\n"
   ]
  },
  {
   "cell_type": "code",
   "execution_count": 45,
   "id": "8e0f8af9-86a7-4a21-9aa2-0acdcb212ff9",
   "metadata": {},
   "outputs": [],
   "source": [
    "# Función para obtener el sentimiento de un comentario\n",
    "def obtener_sentimiento(comentario):\n",
    "    if comentario.strip() == '':\n",
    "        return 'Neutral'  # Considerar comentarios vacíos como neutrales\n",
    "    analisis = TextBlob(comentario)\n",
    "    print(f\"Comentario: {comentario}, Polaridad: {analisis.sentiment.polarity}\")  # Agregar línea de depuración\n",
    "    if analisis.sentiment.polarity > 0.1:  # Ajustar umbral para positivo\n",
    "        return 'Positivo'\n",
    "    elif analisis.sentiment.polarity < -0.1:  # Ajustar umbral para negativo\n",
    "        return 'Negativo'\n",
    "    else:\n",
    "        return 'Neutral'\n"
   ]
  },
  {
   "cell_type": "code",
   "execution_count": 46,
   "id": "6224d564-5da3-41d3-8e5c-8b3fa6ad0677",
   "metadata": {},
   "outputs": [
    {
     "name": "stdout",
     "output_type": "stream",
     "text": [
      "Comentario: muy contento con la compra., Polaridad: 0.0\n",
      "Comentario: no lo recomiendo., Polaridad: 0.0\n",
      "Comentario: estoy satisfecho con la compra., Polaridad: 0.0\n",
      "Comentario: llegó dañado., Polaridad: 0.0\n"
     ]
    }
   ],
   "source": [
    "# Aplicar la función a cada comentario en el DataFrame\n",
    "data['sentimiento'] = data['comentario'].apply(obtener_sentimiento)"
   ]
  },
  {
   "cell_type": "code",
   "execution_count": 50,
   "id": "9f9aceb3-0b9c-4c79-b208-fb792b5f9a66",
   "metadata": {},
   "outputs": [],
   "source": [
    "# Contar el número de comentarios en cada categoría de sentimiento\n",
    "conteo_sentimientos = data['sentimiento'].value_counts()"
   ]
  },
  {
   "cell_type": "code",
   "execution_count": 51,
   "id": "49ac71a0-2f62-4335-a962-a0eaeb9a84d6",
   "metadata": {},
   "outputs": [
    {
     "name": "stdout",
     "output_type": "stream",
     "text": [
      "sentimiento\n",
      "Neutral    5\n",
      "Name: count, dtype: int64\n"
     ]
    }
   ],
   "source": [
    "# Mostrar los resultados\n",
    "print(conteo_sentimientos)"
   ]
  },
  {
   "cell_type": "code",
   "execution_count": 52,
   "id": "81907d34-36ef-4d6d-9740-52a663f75ba9",
   "metadata": {},
   "outputs": [
    {
     "data": {
      "image/png": "[encoded data removed]",
      "text/plain": [
       "<Figure size 800x600 with 1 Axes>"
      ]
     },
     "metadata": {},
     "output_type": "display_data"
    }
   ],
   "source": [
    "# Graficar los resultados\n",
    "plt.figure(figsize=(8, 6))\n",
    "conteo_sentimientos.plot(kind='bar', color=['green', 'red', 'blue'])\n",
    "plt.title('Análisis de Sentimientos de Comentarios de Productos')\n",
    "plt.xlabel('Sentimiento')\n",
    "plt.ylabel('Número de Comentarios')\n",
    "plt.xticks(rotation=0)\n",
    "plt.show()"
   ]
  }
 ],
 "metadata": {
  "kernelspec": {
   "display_name": "Python 3",
   "language": "python",
   "name": "python3"
  },
  "language_info": {
   "codemirror_mode": {
    "name": "ipython",
    "version": 3
   },
   "file_extension": ".py",
   "mimetype": "text/x-python",
   "name": "python",
   "nbconvert_exporter": "python",
   "pygments_lexer": "ipython3",
   "version": "3.12.2"
  }
 },
 "nbformat": 4,
 "nbformat_minor": 5
}
