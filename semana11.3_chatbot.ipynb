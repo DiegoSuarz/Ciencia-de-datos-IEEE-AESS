{
 "cells": [
  {
   "cell_type": "code",
   "execution_count": null,
   "id": "13cd986a",
   "metadata": {},
   "outputs": [],
   "source": [
    "#pip install nltk"
   ]
  },
  {
   "cell_type": "code",
   "execution_count": 13,
   "id": "fc2950a4-5cf3-4fad-ba0c-b53ac31026e7",
   "metadata": {},
   "outputs": [],
   "source": [
    "import nltk\n",
    "import numpy as np\n",
    "import random\n",
    "import string\n",
    "from sklearn.feature_extraction.text import TfidfVectorizer\n",
    "from sklearn.metrics.pairwise import cosine_similarity\n",
    "from nltk.corpus import stopwords"
   ]
  },
  {
   "cell_type": "code",
   "execution_count": 19,
   "id": "3b7a7bbe-52ea-4fa5-b175-79245a51df88",
   "metadata": {},
   "outputs": [],
   "source": [
    "# Definición del corpus, son palabras clave que el chatbot pueda responder\n",
    "with open(r'archivos\\archivos NLP\\corpus_servicios_software.txt', 'r', encoding='utf-8', errors='ignore') as f:\n",
    "    raw = f.read()"
   ]
  },
  {
   "cell_type": "code",
   "execution_count": 20,
   "id": "10e88450-ec27-445f-a19d-a6abe0d306e2",
   "metadata": {},
   "outputs": [],
   "source": [
    "# Preprocesamiento del texto\n",
    "raw = raw.lower()  # Convertir a minúsculas"
   ]
  },
  {
   "cell_type": "code",
   "execution_count": 21,
   "id": "0ed65ccf-8eae-4f4f-bf9b-89b8f3496125",
   "metadata": {},
   "outputs": [
    {
     "name": "stderr",
     "output_type": "stream",
     "text": [
      "[nltk_data] Downloading package punkt to\n",
      "[nltk_data]     C:\\Users\\dg_su\\AppData\\Roaming\\nltk_data...\n",
      "[nltk_data]   Package punkt is already up-to-date!\n",
      "[nltk_data] Downloading package wordnet to\n",
      "[nltk_data]     C:\\Users\\dg_su\\AppData\\Roaming\\nltk_data...\n",
      "[nltk_data]   Package wordnet is already up-to-date!\n",
      "[nltk_data] Downloading package stopwords to\n",
      "[nltk_data]     C:\\Users\\dg_su\\AppData\\Roaming\\nltk_data...\n",
      "[nltk_data]   Package stopwords is already up-to-date!\n",
      "[nltk_data] Downloading package punkt_tab to\n",
      "[nltk_data]     C:\\Users\\dg_su\\AppData\\Roaming\\nltk_data...\n",
      "[nltk_data]   Package punkt_tab is already up-to-date!\n"
     ]
    },
    {
     "data": {
      "text/plain": [
       "True"
      ]
     },
     "execution_count": 21,
     "metadata": {},
     "output_type": "execute_result"
    }
   ],
   "source": [
    "# Descargar y configurar nltk si es necesario\n",
    "nltk.download('punkt')  # Instalar módulo punkt si no está instalado (solo ejecutar la primera vez)\n",
    "nltk.download('wordnet')  # Instalar módulo wordnet si no está instalado (solo ejecutar la primera vez)\n",
    "nltk.download('stopwords')  # Instalar módulo stopwords si no está instalado (solo ejecutar la primera vez)\n",
    "nltk.download('punkt_tab') # Instalar módulo punkt_tab si no está instalado (solo ejecutar la primera vez)"
   ]
  },
  {
   "cell_type": "markdown",
   "id": "b80a3ca8-49e7-40a5-b9ae-713da0e687ce",
   "metadata": {},
   "source": [
    "Preprocesamiento del texto con NTLK Corpus"
   ]
  },
  {
   "cell_type": "code",
   "execution_count": 22,
   "id": "c42df572-54dd-4d99-983b-7cacb60e8c0a",
   "metadata": {},
   "outputs": [],
   "source": [
    "sent_tokens = nltk.sent_tokenize(raw)  # Convierte el corpus a una lista de sentencias\n",
    "word_tokens = nltk.word_tokenize(raw)  # Convierte el corpus a una lista de palabras"
   ]
  },
  {
   "cell_type": "code",
   "execution_count": 23,
   "id": "29550fb6-47a5-4b2c-b664-1b3da23b70aa",
   "metadata": {},
   "outputs": [],
   "source": [
    "lemmer = nltk.stem.WordNetLemmatizer()\n",
    "\n",
    "def LemTokens(tokens):\n",
    "    return [lemmer.lemmatize(token) for token in tokens]\n",
    "\n",
    "remove_punct_dict = dict((ord(punct), None) for punct in string.punctuation)\n",
    "\n",
    "def LemNormalize(text):\n",
    "    return LemTokens(nltk.word_tokenize(text.lower().translate(remove_punct_dict)))"
   ]
  },
  {
   "cell_type": "code",
   "execution_count": 24,
   "id": "3eca4e67-f4e3-472c-a911-3c62a2cad65b",
   "metadata": {},
   "outputs": [
    {
     "name": "stdout",
     "output_type": "stream",
     "text": [
      "['desarrollamos', 'todo', 'tipo', 'de', 'páginas', 'web', 'desde', 'sitios', 'web', 'corporativos', 'y', 'tiendas', 'en', 'línea', 'hasta', 'blog', 'y', 'portafolios', 'personales']\n"
     ]
    }
   ],
   "source": [
    "# Ejemplo de preprocesamiento de una frase\n",
    "ejemplo_frase = \"Desarrollamos todo tipo de páginas web, desde sitios web corporativos y tiendas en línea hasta blogs y portafolios personales.\"\n",
    "print(LemNormalize(ejemplo_frase))"
   ]
  },
  {
   "cell_type": "code",
   "execution_count": 25,
   "id": "e770684f-9629-43ca-8080-ebd508c09a85",
   "metadata": {},
   "outputs": [],
   "source": [
    "# Definición de coincidencias manuales\n",
    "SALUDOS_INPUTS = (\"hola\", \"buenas\", \"saludos\", \"qué tal\", \"hey\", \"buenos días\")\n",
    "SALUDOS_OUTPUTS = [\"Hola\", \"Hola, ¿Qué tal?\", \"Hola, ¿Cómo te puedo ayudar?\", \"Hola, encantado de hablar contigo\"]\n",
    "\n",
    "def saludos(sentence):\n",
    "    for word in sentence.split():\n",
    "        if word.lower() in SALUDOS_INPUTS:\n",
    "            return random.choice(SALUDOS_OUTPUTS)"
   ]
  },
  {
   "cell_type": "markdown",
   "id": "84cd4dcd-a425-4d78-934d-a8ad991461ba",
   "metadata": {},
   "source": [
    "Preprocesamient del texto + Evaluaar similitud mensaje usuario - corpus"
   ]
  },
  {
   "cell_type": "code",
   "execution_count": 26,
   "id": "0f4affec-6e4b-464a-90e3-fa2bbccc0c33",
   "metadata": {},
   "outputs": [],
   "source": [
    "# Función para determinar la similitud del texto insertado y el corpus\n",
    "def response(user_response):\n",
    "    robo_response = ''\n",
    "    sent_tokens.append(user_response)  # Añade la respuesta del usuario al final del corpus\n",
    "    tfidfvec = TfidfVectorizer(tokenizer=LemNormalize, stop_words=stopwords.words('spanish'))\n",
    "    tfidf = tfidfvec.fit_transform(sent_tokens)\n",
    "    # Evaluar similitud de coseno entre mensaje usuario y el corpus\n",
    "    vals = cosine_similarity(tfidf[-1], tfidf)\n",
    "    idx = vals.argsort()[0][-2]\n",
    "    flat = vals.flatten()\n",
    "    flat.sort()\n",
    "    req_tfidf = flat[-2]\n",
    "    \n",
    "    if(req_tfidf == 0):\n",
    "        robo_response = robo_response + \"Lo siento, no te he entendido. Si no puedo responder a lo que buscas, ponte en contacto con soporte@empresa.com.\"\n",
    "    else:\n",
    "        robo_response = robo_response + sent_tokens[idx]\n",
    "    \n",
    "    sent_tokens.pop(-1)  # Eliminar la respuesta del usuario del corpus\n",
    "    return robo_response"
   ]
  },
  {
   "cell_type": "code",
   "execution_count": 27,
   "id": "63f279d3-bdde-4873-9d23-efd3fb486aab",
   "metadata": {},
   "outputs": [
    {
     "name": "stdout",
     "output_type": "stream",
     "text": [
      "Chatbot: ¡Hola! Soy tu asistente virtual. ¿En qué puedo ayudarte hoy? (Escribe 'adiós' para salir)\n",
      "Chatbot: Hola, ¿Qué tal?\n"
     ]
    },
    {
     "name": "stderr",
     "output_type": "stream",
     "text": [
      "c:\\Users\\dg_su\\AppData\\Local\\Programs\\Python\\Python312\\Lib\\site-packages\\sklearn\\feature_extraction\\text.py:521: UserWarning: The parameter 'token_pattern' will not be used since 'tokenizer' is not None'\n",
      "  warnings.warn(\n"
     ]
    },
    {
     "name": "stdout",
     "output_type": "stream",
     "text": [
      "Chatbot: Lo siento, no te he entendido. Si no puedo responder a lo que buscas, ponte en contacto con soporte@empresa.com.\n",
      "Chatbot: Lo siento, no te he entendido. Si no puedo responder a lo que buscas, ponte en contacto con soporte@empresa.com.\n",
      "Chatbot: Hola, encantado de hablar contigo\n",
      "Chatbot: ¿te gustaría saber más sobre alguno de estos servicios?\n",
      "Chatbot: desarrollamos todo tipo de páginas web, desde sitios web corporativos y tiendas en línea hasta blogs y portafolios personales.\n",
      "Chatbot: la marca de tu empresa se va a volver digital con nosotros en solo 3 dias\n",
      "Chatbot: Lo siento, no te he entendido. Si no puedo responder a lo que buscas, ponte en contacto con soporte@empresa.com.\n",
      "Chatbot: Lo siento, no te he entendido. Si no puedo responder a lo que buscas, ponte en contacto con soporte@empresa.com.\n",
      "Chatbot: ¡Adiós! Que tengas un buen día.\n"
     ]
    }
   ],
   "source": [
    "# Ciclo de conversación del chatbot\n",
    "flag = True\n",
    "print(\"Chatbot: ¡Hola! Soy tu asistente virtual. ¿En qué puedo ayudarte hoy? (Escribe 'adiós' para salir)\")\n",
    "\n",
    "while(flag == True):\n",
    "    user_response = input()\n",
    "    user_response = user_response.lower()\n",
    "    if(user_response != 'adiós'):\n",
    "        if(user_response == 'gracias' or user_response == 'muchas gracias'):\n",
    "            flag = False\n",
    "            print(\"Chatbot: ¡De nada! ¿Hay algo más en lo que te pueda ayudar?\")\n",
    "        else:\n",
    "            if saludos(user_response) is not None:\n",
    "                print(\"Chatbot: \" + saludos(user_response))\n",
    "            else:\n",
    "                print(\"Chatbot: \", end=\"\")\n",
    "                print(response(user_response))\n",
    "    else:\n",
    "        flag = False\n",
    "        print(\"Chatbot: ¡Adiós! Que tengas un buen día.\")"
   ]
  },
  {
   "cell_type": "code",
   "execution_count": null,
   "id": "c4cf5dd1-352a-4533-879f-7863d45c1b9a",
   "metadata": {},
   "outputs": [],
   "source": []
  }
 ],
 "metadata": {
  "kernelspec": {
   "display_name": "Python 3",
   "language": "python",
   "name": "python3"
  },
  "language_info": {
   "codemirror_mode": {
    "name": "ipython",
    "version": 3
   },
   "file_extension": ".py",
   "mimetype": "text/x-python",
   "name": "python",
   "nbconvert_exporter": "python",
   "pygments_lexer": "ipython3",
   "version": "3.12.2"
  }
 },
 "nbformat": 4,
 "nbformat_minor": 5
}
